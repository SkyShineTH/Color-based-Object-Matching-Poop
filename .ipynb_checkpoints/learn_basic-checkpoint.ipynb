{
 "cells": [
  {
   "cell_type": "code",
   "execution_count": 28,
   "id": "e346ccf1-31e7-4a54-853b-35b83f2b6397",
   "metadata": {},
   "outputs": [],
   "source": [
    "import numpy as np\n",
    "import matplotlib.pyplot as plt\n",
    "from sklearn.cluster import KMeans\n",
    "from scipy.spatial.distance import euclidean\n",
    "from PIL import Image\n",
    "import os\n",
    "import glob"
   ]
  },
  {
   "cell_type": "code",
   "execution_count": 29,
   "id": "b2a438df-6e5a-4124-b772-6e787e001171",
   "metadata": {},
   "outputs": [],
   "source": [
    "pil_image = Image.open('crocodile.JPG')\n",
    "crocodile_image = np.array(pil_image.convert('RGB'))"
   ]
  },
  {
   "cell_type": "code",
   "execution_count": 30,
   "id": "03b9c40a-33da-4cd3-8960-2bc354ff4c10",
   "metadata": {},
   "outputs": [
    {
     "data": {
      "text/plain": [
       "array([[[ 80,  81,  85],\n",
       "        [ 80,  81,  85],\n",
       "        [ 81,  82,  86],\n",
       "        ...,\n",
       "        [ 96,  98,  97],\n",
       "        [ 89,  91,  90],\n",
       "        [ 86,  88,  87]],\n",
       "\n",
       "       [[ 79,  80,  84],\n",
       "        [ 82,  83,  87],\n",
       "        [ 82,  83,  87],\n",
       "        ...,\n",
       "        [ 96,  98,  97],\n",
       "        [ 90,  92,  91],\n",
       "        [ 89,  91,  90]],\n",
       "\n",
       "       [[ 79,  80,  84],\n",
       "        [ 84,  85,  89],\n",
       "        [ 83,  84,  88],\n",
       "        ...,\n",
       "        [ 95,  97,  96],\n",
       "        [ 92,  94,  93],\n",
       "        [ 93,  95,  94]],\n",
       "\n",
       "       ...,\n",
       "\n",
       "       [[102, 101, 106],\n",
       "        [102, 101, 106],\n",
       "        [103, 102, 107],\n",
       "        ...,\n",
       "        [127, 128, 132],\n",
       "        [125, 126, 130],\n",
       "        [123, 124, 128]],\n",
       "\n",
       "       [[101, 100, 105],\n",
       "        [101, 100, 105],\n",
       "        [103, 102, 107],\n",
       "        ...,\n",
       "        [124, 128, 131],\n",
       "        [123, 127, 130],\n",
       "        [119, 123, 126]],\n",
       "\n",
       "       [[ 98,  97, 102],\n",
       "        [ 98,  97, 102],\n",
       "        [100,  99, 104],\n",
       "        ...,\n",
       "        [119, 123, 126],\n",
       "        [119, 123, 126],\n",
       "        [119, 123, 126]]], shape=(4000, 6000, 3), dtype=uint8)"
      ]
     },
     "execution_count": 30,
     "metadata": {},
     "output_type": "execute_result"
    }
   ],
   "source": [
    "crocodile_image"
   ]
  },
  {
   "cell_type": "code",
   "execution_count": 31,
   "id": "c5f2ea27-eb79-42e0-8a92-0620d13e5b7f",
   "metadata": {},
   "outputs": [
    {
     "data": {
      "image/png": "[encoded data removed]",
      "text/plain": [
       "<Figure size 640x480 with 1 Axes>"
      ]
     },
     "metadata": {},
     "output_type": "display_data"
    }
   ],
   "source": [
    "image = np.array([\n",
    "    [[255, 0, 0],    [0, 255, 0],    [0, 0, 255]],   \n",
    "    [[255, 255, 0],  [0, 255, 255],  [255, 0, 255]],   \n",
    "    [[0, 0, 0],      [128, 128, 128],[255, 255, 255]]  \n",
    "], dtype=np.uint8)\n",
    "\n",
    "plt.imshow(image)\n",
    "plt.title(\"original 3x3 RGB Image\")\n",
    "plt.axis('off')  \n",
    "plt.show()"
   ]
  },
  {
   "cell_type": "code",
   "execution_count": 32,
   "id": "b1920c53-f729-4ff6-9008-9296dace6348",
   "metadata": {},
   "outputs": [
    {
     "data": {
      "image/png": "[encoded data removed]",
      "text/plain": [
       "<Figure size 640x480 with 1 Axes>"
      ]
     },
     "metadata": {},
     "output_type": "display_data"
    }
   ],
   "source": [
    "intensity = [0.299, 0.587, 0.114]\n",
    "grayscale = np.dot(image[...,:3], [0.299, 0.587, 0.114])\n",
    "plt.imshow(grayscale)\n",
    "plt.title(\"grayscale 3x3 RGB Image\")\n",
    "plt.axis('off')  \n",
    "plt.show()"
   ]
  },
  {
   "cell_type": "code",
   "execution_count": 33,
   "id": "96a85884-9ff0-42eb-a990-bc43e54e3508",
   "metadata": {},
   "outputs": [
    {
     "name": "stdout",
     "output_type": "stream",
     "text": [
      "[0.         0.         0.88235295]\n"
     ]
    }
   ],
   "source": [
    "red_color = np.array([0, 0, 225])\n",
    "normalized_red = red_color.astype(np.float32) / 255.0\n",
    "print(normalized_red)"
   ]
  },
  {
   "cell_type": "code",
   "execution_count": 34,
   "id": "e121ebd3-ce81-4631-936d-5329ec7939a5",
   "metadata": {},
   "outputs": [],
   "source": [
    "gaussian_k = np.array([ [1, 2, 1],\n",
    "  [2, 4, 2],\n",
    "  [1, 2, 1] ] )"
   ]
  },
  {
   "cell_type": "code",
   "execution_count": 35,
   "id": "1bb4f20a-d589-4dd4-80ec-7d64bebb3a75",
   "metadata": {},
   "outputs": [
    {
     "data": {
      "text/plain": [
       "array([[0.0625, 0.125 , 0.0625],\n",
       "       [0.125 , 0.25  , 0.125 ],\n",
       "       [0.0625, 0.125 , 0.0625]])"
      ]
     },
     "execution_count": 35,
     "metadata": {},
     "output_type": "execute_result"
    }
   ],
   "source": [
    "gaussian_k / 16"
   ]
  },
  {
   "cell_type": "code",
   "execution_count": 36,
   "id": "9a5c691b-997b-46d8-99db-05fae8250296",
   "metadata": {},
   "outputs": [
    {
     "data": {
      "text/plain": [
       "np.float64(1.0)"
      ]
     },
     "execution_count": 36,
     "metadata": {},
     "output_type": "execute_result"
    }
   ],
   "source": [
    "np.sum(gaussian_k / 16)"
   ]
  },
  {
   "cell_type": "code",
   "execution_count": 37,
   "id": "7dd7f2b4-3eac-4a19-9fff-75f3cc8818ab",
   "metadata": {},
   "outputs": [],
   "source": [
    "h, w, r = crocodile_image.shape    "
   ]
  },
  {
   "cell_type": "markdown",
   "id": "46a8fa7a-c700-47a3-8539-e6363a876550",
   "metadata": {},
   "source": [
    "https://towardsdatascience.com/computer-vision-convolution-basics-2d0ae3b79346/"
   ]
  },
  {
   "cell_type": "code",
   "execution_count": 38,
   "id": "a903f620-0cb4-4887-afd2-c8e9902202fa",
   "metadata": {},
   "outputs": [
    {
     "name": "stdout",
     "output_type": "stream",
     "text": [
      "Original 5x5 Image:\n",
      "[[  0.   0.   0.   0.   0.]\n",
      " [  0.   0.   0.   0.   0.]\n",
      " [  0.   0. 255. 255. 255.]\n",
      " [  0.   0. 255. 255. 255.]\n",
      " [  0.   0. 255. 255. 255.]]\n",
      "\n",
      "Sobel X Kernel (หาขอบแนวตั้ง):\n",
      "[[-1  0  1]\n",
      " [-2  0  2]\n",
      " [-1  0  1]]\n",
      "\n",
      "Sobel Y Kernel (หาขอบแนวนอน):\n",
      "[[-1 -2 -1]\n",
      " [ 0  0  0]\n",
      " [ 1  2  1]]\n",
      "\n",
      "Sobel X Result (Gx):\n",
      "[[    0.     0.     0.     0.     0.]\n",
      " [    0.   255.   255.     0.  -255.]\n",
      " [    0.   765.   765.     0.  -765.]\n",
      " [    0.  1020.  1020.     0. -1020.]\n",
      " [    0.   765.   765.     0.  -765.]]\n",
      "\n",
      "Sobel Y Result (Gy):\n",
      "[[    0.     0.     0.     0.     0.]\n",
      " [    0.   255.   765.  1020.   765.]\n",
      " [    0.   255.   765.  1020.   765.]\n",
      " [    0.     0.     0.     0.     0.]\n",
      " [    0.  -255.  -765. -1020.  -765.]]\n",
      "\n",
      "Magnitude = sqrt(Gx² + Gy²):\n",
      "[[   0.         0.         0.         0.         0.     ]\n",
      " [   0.       360.62445  806.3808  1020.       806.3808 ]\n",
      " [   0.       806.3808  1081.8734  1020.      1081.8734 ]\n",
      " [   0.      1020.      1020.         0.      1020.     ]\n",
      " [   0.       806.3808  1081.8734  1020.      1081.8734 ]]\n"
     ]
    },
    {
     "data": {
      "image/png": "[encoded data removed]",
      "text/plain": [
       "<Figure size 1500x400 with 4 Axes>"
      ]
     },
     "metadata": {},
     "output_type": "display_data"
    }
   ],
   "source": [
    "image = np.array([\n",
    "    [0,   0,   0,   0,   0],\n",
    "    [0,   0,   0,   0,   0],\n",
    "    [0,   0, 255, 255, 255],\n",
    "    [0,   0, 255, 255, 255],\n",
    "    [0,   0, 255, 255, 255]\n",
    "], dtype=np.float32)\n",
    "\n",
    "print(\"Original 5x5 Image:\")\n",
    "print(image)\n",
    "\n",
    "# แสดงภาพ\n",
    "plt.figure(figsize=(15, 4))\n",
    "\n",
    "plt.subplot(1, 4, 1)\n",
    "plt.imshow(image, cmap='gray', vmin=0, vmax=255)\n",
    "plt.title(\"Original Image\\n(0=black, 255=white)\")\n",
    "plt.axis('off')\n",
    "\n",
    "# Sobel X kernel (หาขอบแนวตั้ง)\n",
    "sobel_x = np.array([\n",
    "    [-1, 0, 1],\n",
    "    [-2, 0, 2], \n",
    "    [-1, 0, 1]\n",
    "])\n",
    "\n",
    "# Sobel Y kernel (หาขอบแนวนอน)\n",
    "sobel_y = np.array([\n",
    "    [-1, -2, -1],\n",
    "    [ 0,  0,  0],\n",
    "    [ 1,  2,  1]\n",
    "])\n",
    "\n",
    "print(\"\\nSobel X Kernel (หาขอบแนวตั้ง):\")\n",
    "print(sobel_x)\n",
    "print(\"\\nSobel Y Kernel (หาขอบแนวนอน):\")\n",
    "print(sobel_y)\n",
    "\n",
    "# Manual convolution function\n",
    "def manual_convolve(image, kernel):\n",
    "    h, w = image.shape\n",
    "    kh, kw = kernel.shape\n",
    "    pad_h, pad_w = kh // 2, kw // 2\n",
    "    \n",
    "    # Zero padding\n",
    "    padded = np.pad(image, ((pad_h, pad_h), (pad_w, pad_w)), mode='constant', constant_values=0)\n",
    "    result = np.zeros_like(image)\n",
    "    \n",
    "    for i in range(h):\n",
    "        for j in range(w):\n",
    "            # Element-wise multiply and sum\n",
    "            window = padded[i:i+kh, j:j+kw]\n",
    "            result[i, j] = np.sum(window * kernel)\n",
    "    \n",
    "    return result\n",
    "\n",
    "# Apply Sobel X\n",
    "gx = manual_convolve(image, sobel_x)\n",
    "print(\"\\nSobel X Result (Gx):\")\n",
    "print(gx)\n",
    "\n",
    "# Apply Sobel Y  \n",
    "gy = manual_convolve(image, sobel_y)\n",
    "print(\"\\nSobel Y Result (Gy):\")\n",
    "print(gy)\n",
    "\n",
    "# Calculate magnitude\n",
    "magnitude = np.sqrt(gx**2 + gy**2)\n",
    "print(\"\\nMagnitude = sqrt(Gx² + Gy²):\")\n",
    "print(magnitude)\n",
    "\n",
    "# Visualize results\n",
    "plt.subplot(1, 4, 2)\n",
    "plt.imshow(gx, cmap='gray')\n",
    "plt.title(\"Sobel X Result\\n(Vertical edges)\")\n",
    "plt.axis('off')\n",
    "\n",
    "plt.subplot(1, 4, 3) \n",
    "plt.imshow(gy, cmap='gray')\n",
    "plt.title(\"Sobel Y Result\\n(Horizontal edges)\")\n",
    "plt.axis('off')\n",
    "\n",
    "plt.subplot(1, 4, 4)\n",
    "plt.imshow(magnitude, cmap='gray')\n",
    "plt.title(\"Edge Magnitude\\n(Combined)\")\n",
    "plt.axis('off')\n",
    "\n",
    "plt.tight_layout()\n",
    "plt.show()\n",
    "\n"
   ]
  },
  {
   "cell_type": "code",
   "execution_count": null,
   "id": "7477dbb1-096f-40c2-b962-05460025d1f9",
   "metadata": {},
   "outputs": [],
   "source": []
  }
 ],
 "metadata": {
  "kernelspec": {
   "display_name": "image-venv",
   "language": "python",
   "name": "image-venv"
  },
  "language_info": {
   "codemirror_mode": {
    "name": "ipython",
    "version": 3
   },
   "file_extension": ".py",
   "mimetype": "text/x-python",
   "name": "python",
   "nbconvert_exporter": "python",
   "pygments_lexer": "ipython3",
   "version": "3.11.0"
  }
 },
 "nbformat": 4,
 "nbformat_minor": 5
}
